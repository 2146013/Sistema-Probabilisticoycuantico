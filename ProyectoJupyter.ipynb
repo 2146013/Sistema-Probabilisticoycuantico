{
 "cells": [
  {
   "cell_type": "markdown",
   "metadata": {},
   "source": [
    "# Proyecto 2 Tercio"
   ]
  },
  {
   "cell_type": "markdown",
   "metadata": {},
   "source": [
    "## Punto 1. Experimento de la doble rendija (probabilístico)"
   ]
  },
  {
   "cell_type": "markdown",
   "metadata": {},
   "source": [
    "### + Partimos del siguiente grafo"
   ]
  },
  {
   "cell_type": "markdown",
   "metadata": {},
   "source": [
    "<img src = \"grafo.png\" style = \"float:center\" width = \"50%\">"
   ]
  },
  {
   "cell_type": "markdown",
   "metadata": {},
   "source": [
    "#### La matriz asociada es:\n"
   ]
  },
  {
   "cell_type": "markdown",
   "metadata": {},
   "source": [
    "$$M = \\begin {bmatrix} 0 & 0 & 0 & 0 & 0 & 0 & 0 & 0 \\\\ 1/2 & 0 & 0 & 0 & 0 & 0 & 0 & 0 \\\\ 1/2 & 0 & 0 & 0 & 0 & 0 & 0 & 0 \\\\ 0 & 1/3 & 0 & 1 & 0 & 0 & 0 & 0 \\\\ 0 & 1/3 & 0 & 0 & 1 & 0 & 0 & 0 \\\\ 0 & 1/3 & 1/3 & 0 & 0 & 1 & 0 & 0 \\\\ 0 & 0 & 1/3 & 0 & 0 & 0 & 1 & 0 \\\\ 0 & 0 & 1/3 & 0 & 0 & 0 & 0 & 1 \\end {bmatrix} $$  "
   ]
  },
  {
   "cell_type": "markdown",
   "metadata": {},
   "source": [
    "#### Tomamos el vector inicial como:"
   ]
  },
  {
   "cell_type": "markdown",
   "metadata": {},
   "source": [
    "$$B = \\begin {bmatrix} 1 & 0 & 0 & 0 & 0 & 0 & 0 & 0  \\end {bmatrix} $$  "
   ]
  },
  {
   "cell_type": "code",
   "execution_count": 1,
   "metadata": {},
   "outputs": [],
   "source": [
    "import proyecto as p2"
   ]
  },
  {
   "cell_type": "code",
   "execution_count": 2,
   "metadata": {},
   "outputs": [
    {
     "data": {
      "image/png": "[encoded data removed]",
      "text/plain": [
       "<Figure size 432x288 with 1 Axes>"
      ]
     },
     "metadata": {
      "needs_background": "light"
     },
     "output_type": "display_data"
    },
    {
     "data": {
      "text/plain": [
       "[(0.0, 0.0),\n",
       " (0.0, 0.0),\n",
       " (0.0, 0.0),\n",
       " (0.16666666666666666, 0.0),\n",
       " (0.16666666666666666, 0.0),\n",
       " (0.3333333333333333, 0.0),\n",
       " (0.16666666666666666, 0.0),\n",
       " (0.16666666666666666, 0.0)]"
      ]
     },
     "execution_count": 2,
     "metadata": {},
     "output_type": "execute_result"
    }
   ],
   "source": [
    "p2.clasico_dinamico(2)"
   ]
  },
  {
   "cell_type": "markdown",
   "metadata": {},
   "source": [
    "#### Despues de dos clicks de tiempo tenemos:"
   ]
  },
  {
   "cell_type": "markdown",
   "metadata": {},
   "source": [
    "$$B = \\begin {bmatrix} 0 & 0 & 0 & 1/6 & 1/6 & 1/3 & 1/6 & 1/6  \\end {bmatrix} $$  "
   ]
  },
  {
   "cell_type": "markdown",
   "metadata": {},
   "source": [
    "### Punto 2 Experimento de la doble rendija (cuántico)."
   ]
  },
  {
   "cell_type": "markdown",
   "metadata": {},
   "source": [
    "#### La matriz asociada es:"
   ]
  },
  {
   "cell_type": "markdown",
   "metadata": {},
   "source": [
    "$$M = \\begin {bmatrix} 0 & 0 & 0 & 0 & 0 & 0 & 0 & 0 \\\\ 1/√2 & 0 & 0 & 0 & 0 & 0 & 0 & 0 \\\\ 1/√2 & 0 & 0 & 0 & 0 & 0 & 0 & 0 \\\\ 0 & -1+i/√6 & 0 & 1 & 0 & 0 & 0 & 0 \\\\ 0 & -1-i/√6 & 0 & 0 & 1 & 0 & 0 & 0 \\\\ 0 & 1-i/√6 & -1+i/√6 & 0 & 0 & 1 & 0 & 0 \\\\ 0 & 0 & -1-i/√6 & 0 & 0 & 0 & 1 & 0 \\\\ 0 & 0 & 1-i/√6 & 0 & 0 & 0 & 0 & 1 \\end {bmatrix} $$  "
   ]
  },
  {
   "cell_type": "code",
   "execution_count": 3,
   "metadata": {},
   "outputs": [
    {
     "data": {
      "image/png": "[encoded data removed]",
      "text/plain": [
       "<Figure size 432x288 with 1 Axes>"
      ]
     },
     "metadata": {
      "needs_background": "light"
     },
     "output_type": "display_data"
    },
    {
     "name": "stdout",
     "output_type": "stream",
     "text": [
      "[(0.0, 0.0), (0.0, 0.0), (0.0, 0.0), (-0.2886751345948129, 0.2886751345948129), (-0.2886751345948129, -0.2886751345948129), (0.0, 0.0), (-0.2886751345948129, -0.2886751345948129), (0.2886751345948129, -0.2886751345948129)]\n"
     ]
    }
   ],
   "source": [
    "import Clásico_a_cuántico as p3"
   ]
  },
  {
   "cell_type": "markdown",
   "metadata": {},
   "source": [
    "### Punto 3 Experimento de la doble rendija."
   ]
  },
  {
   "cell_type": "markdown",
   "metadata": {},
   "source": [
    "En 2003 la revista Physics World preguntó a sus lectores cuál era en su opinión el experimento más bello de la historia de la física. Ganó el célebre experimento de la doble rendija, una prueba diseñada en 1801 para probar la naturaleza ondulatoria de la luz que no ha dejado de repetirse, en diversos formatos y con distintos objetivos, hasta la actualidad.\n",
    "\n",
    "La fascinación que sigue produciendo este experimento tiene que ver con que, como dijo el físico Richard Feynmann (1918-1988), contiene en sí mismo el corazón y todo el misterio de la física cuántica, la disciplina que estudia el comportamiento de la materia a escala microscópica.\n",
    "\n",
    "\n",
    "## Materiales para realizar el experimento:\n",
    "\n",
    "    1. Papel Aluminio\n",
    "    2. Regla\n",
    "    3. Carton Paja\n",
    "    4. Bisturi\n",
    "    5. Laser\n",
    "    6. Cinta Pegante\n",
    "    \n",
    "## Procedimiento:\n",
    "    1. Se crea la base para apoyar el laser, y se recorta un cuadrado en el carton paja para poder colocar el papel aluminio\n",
    "    2. Se generan dos cortes al papel aluminio que sean paralelos y que halla muy poca distancia entre los dos \n",
    "    3. Se apunta con el laser para obtener el resultado final\n"
   ]
  },
  {
   "cell_type": "markdown",
   "metadata": {},
   "source": [
    "## IMAGENES PROYECTO"
   ]
  },
  {
   "cell_type": "markdown",
   "metadata": {},
   "source": [
    "<img src = \"imagen.png\" style = \"float:center\" width = \"30%\">\n",
    "<img src = \"imagennn.png\" style = \"float:center\" width = \"30%\">"
   ]
  },
  {
   "cell_type": "markdown",
   "metadata": {},
   "source": [
    "## RESULTADO PROYECTO\n",
    "<img src = \"rendi.png\" style = \"float:center\" width = \"30%\">\n",
    "<img src = \"rendi1.png\" style = \"float:center\" width = \"30%\">\n",
    "<img src = \"rendi3.png\" style = \"float:center\" width = \"30%\">"
   ]
  },
  {
   "cell_type": "markdown",
   "metadata": {},
   "source": [
    "## comparacion \n",
    "#### Probabilistico\n",
    "De acuerdo a el numeral imagenes de proyecto y resultado proyecto se identifica que la mayor similitud es dada con el sistema probabilistico ya que en resultado de proyecto se observa que la interpretación estándar nos dice que el electrón se lanza y se recoge como una partícula, pero se propaga como una onda.Se interpreta que durante su recorrido el electrón está distribuido o superpuesto en toda el área que ocupa su onda, por lo que atraviesa las dos rendijas a la vez e interfiere consigo mismo hasta impactar contra la segunda placa que en este caso es la pared."
   ]
  },
  {
   "cell_type": "markdown",
   "metadata": {},
   "source": [
    "### 4 punto SIMULACION CIRCUITOS CUANTICOS"
   ]
  },
  {
   "cell_type": "markdown",
   "metadata": {},
   "source": [
    "### Con un qubit"
   ]
  },
  {
   "cell_type": "code",
   "execution_count": 7,
   "metadata": {},
   "outputs": [
    {
     "ename": "ModuleNotFoundError",
     "evalue": "No module named 'complejos'",
     "output_type": "error",
     "traceback": [
      "\u001b[1;31m---------------------------------------------------------------------------\u001b[0m",
      "\u001b[1;31mModuleNotFoundError\u001b[0m                       Traceback (most recent call last)",
      "\u001b[1;32m<ipython-input-7-aafc4cb1c944>\u001b[0m in \u001b[0;36m<module>\u001b[1;34m\u001b[0m\n\u001b[0;32m      1\u001b[0m \u001b[1;32mimport\u001b[0m \u001b[0mcomplejos1\u001b[0m \u001b[1;32mas\u001b[0m \u001b[0mcomp\u001b[0m\u001b[1;33m\u001b[0m\u001b[1;33m\u001b[0m\u001b[0m\n\u001b[1;32m----> 2\u001b[1;33m \u001b[1;32mimport\u001b[0m \u001b[0mvectmatrices1\u001b[0m \u001b[1;32mas\u001b[0m \u001b[0mvmat\u001b[0m\u001b[1;33m\u001b[0m\u001b[1;33m\u001b[0m\u001b[0m\n\u001b[0m\u001b[0;32m      3\u001b[0m \u001b[1;32mimport\u001b[0m \u001b[0mnumpy\u001b[0m \u001b[1;32mas\u001b[0m \u001b[0mnp\u001b[0m\u001b[1;33m\u001b[0m\u001b[1;33m\u001b[0m\u001b[0m\n\u001b[0;32m      4\u001b[0m \u001b[1;32mimport\u001b[0m \u001b[0mmatplotlib\u001b[0m\u001b[1;33m.\u001b[0m\u001b[0mpyplot\u001b[0m \u001b[1;32mas\u001b[0m \u001b[0mplt\u001b[0m\u001b[1;33m\u001b[0m\u001b[1;33m\u001b[0m\u001b[0m\n\u001b[0;32m      5\u001b[0m \u001b[1;33m\u001b[0m\u001b[0m\n",
      "\u001b[1;32m~\\Desktop\\PROYECTO CNYT\\Proyecto_cnyt\\vectmatrices1.py\u001b[0m in \u001b[0;36m<module>\u001b[1;34m\u001b[0m\n\u001b[0;32m      2\u001b[0m \u001b[0mcomplejos\u001b[0m\u001b[1;33m,\u001b[0m \u001b[0mrequiere\u001b[0m \u001b[0mde\u001b[0m \u001b[0mla\u001b[0m \u001b[0mlibreria\u001b[0m \u001b[0manterior\u001b[0m \u001b[1;33m(\u001b[0m\u001b[0mcomplejos\u001b[0m\u001b[1;33m)\u001b[0m \u001b[0mpara\u001b[0m \u001b[0mpoder\u001b[0m \u001b[0mhacer\u001b[0m \u001b[0muso\u001b[0m\u001b[1;33m\u001b[0m\u001b[1;33m\u001b[0m\u001b[0m\n\u001b[0;32m      3\u001b[0m de todas las funciones\"\"\"\n\u001b[1;32m----> 4\u001b[1;33m \u001b[1;32mimport\u001b[0m \u001b[0mcomplejos\u001b[0m \u001b[1;32mas\u001b[0m \u001b[0mcomp\u001b[0m\u001b[1;33m\u001b[0m\u001b[1;33m\u001b[0m\u001b[0m\n\u001b[0m\u001b[0;32m      5\u001b[0m \u001b[1;32mimport\u001b[0m \u001b[0mmath\u001b[0m\u001b[1;33m\u001b[0m\u001b[1;33m\u001b[0m\u001b[0m\n\u001b[0;32m      6\u001b[0m \u001b[1;32mdef\u001b[0m \u001b[0mgenerar\u001b[0m\u001b[1;33m(\u001b[0m\u001b[0mn\u001b[0m\u001b[1;33m,\u001b[0m\u001b[0mm\u001b[0m\u001b[1;33m)\u001b[0m\u001b[1;33m:\u001b[0m\u001b[1;33m\u001b[0m\u001b[1;33m\u001b[0m\u001b[0m\n",
      "\u001b[1;31mModuleNotFoundError\u001b[0m: No module named 'complejos'"
     ]
    }
   ],
   "source": [
    "import complejos1 as comp\n",
    "import vectmatrices1 as vmat\n",
    "import numpy as np\n",
    "import matplotlib.pyplot as plt\n",
    "\n",
    "def X():       \n",
    "    return mc([[(0,0),(1,0)],[(1,0),(0,0)]])\n",
    "\n",
    "def H():\n",
    "    return mc([[(1/sqrt(2),0),(1/sqrt(2),0)],[(1/sqrt(2),0),(-1/sqrt(2),0)]])\n",
    "\n",
    "\n",
    "q=mc([[(1,0)],[(0,0)]])\n",
    "\n",
    "algoritmo=[X(),H(),X()]\n",
    "ans=q\n",
    "for i in algoritmo:\n",
    "    ans=mult(i,ans)\n",
    "resultadoc(V=ans,clicks=\"n\")"
   ]
  },
  {
   "cell_type": "code",
   "execution_count": null,
   "metadata": {},
   "outputs": [],
   "source": []
  }
 ],
 "metadata": {
  "kernelspec": {
   "display_name": "Python 3",
   "language": "python",
   "name": "python3"
  },
  "language_info": {
   "codemirror_mode": {
    "name": "ipython",
    "version": 3
   },
   "file_extension": ".py",
   "mimetype": "text/x-python",
   "name": "python",
   "nbconvert_exporter": "python",
   "pygments_lexer": "ipython3",
   "version": "3.7.4"
  }
 },
 "nbformat": 4,
 "nbformat_minor": 4
}
